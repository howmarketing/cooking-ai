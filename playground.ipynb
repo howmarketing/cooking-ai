{
 "cells": [
  {
   "cell_type": "code",
   "execution_count": 28,
   "metadata": {},
   "outputs": [],
   "source": [
    "import os\n",
    "import json\n",
    "\n",
    "RESOURCES_PATH = 'public/resources/'\n",
    "INPUT_PATH = f'{RESOURCES_PATH}input/'\n",
    "OUTPUT_PATH = f'{RESOURCES_PATH}output/'\n"
   ]
  },
  {
   "cell_type": "code",
   "execution_count": 29,
   "metadata": {},
   "outputs": [],
   "source": [
    "def list_files_in_directory(path):\n",
    "    return os.listdir(path)\n",
    "\n",
    "def pop_file_ext(file):\n",
    "    \"\"\"Remove the file extension from a filename.\"\"\"\n",
    "    return '.'.join(file.rsplit('.', 1)[:-1])\n",
    "\n",
    "def list_dir(path):\n",
    "    \"\"\"List all files in a directory.\"\"\"\n",
    "    return os.listdir(path)\n",
    "\n",
    "def list_files_with_metadata(path=INPUT_PATH, extension='.md'):\n",
    "    \"\"\"Get all files in a directory.\"\"\"\n",
    "    return [{'file': file, 'name': pop_file_ext(file), 'ext': extension, 'file_path': f'{path}{file}'} for file in list_dir(path) if file.endswith(extension)]"
   ]
  },
  {
   "cell_type": "code",
   "execution_count": 30,
   "metadata": {},
   "outputs": [
    {
     "data": {
      "text/plain": [
       "'somefile.class'"
      ]
     },
     "execution_count": 30,
     "metadata": {},
     "output_type": "execute_result"
    }
   ],
   "source": [
    "pop_file_ext('somefile.class.php')"
   ]
  },
  {
   "cell_type": "code",
   "execution_count": 31,
   "metadata": {},
   "outputs": [
    {
     "data": {
      "text/plain": [
       "['core-concepts.md', 'questions.md', 'readme.md']"
      ]
     },
     "execution_count": 31,
     "metadata": {},
     "output_type": "execute_result"
    }
   ],
   "source": [
    "list_dir(path=INPUT_PATH)"
   ]
  },
  {
   "cell_type": "code",
   "execution_count": 34,
   "metadata": {},
   "outputs": [
    {
     "name": "stdout",
     "output_type": "stream",
     "text": [
      "[\n",
      "  {\n",
      "    \"file\": \"core-concepts.md\",\n",
      "    \"name\": \"core-concepts\",\n",
      "    \"ext\": \".md\",\n",
      "    \"file_path\": \"public/resources/input/core-concepts.md\"\n",
      "  },\n",
      "  {\n",
      "    \"file\": \"questions.md\",\n",
      "    \"name\": \"questions\",\n",
      "    \"ext\": \".md\",\n",
      "    \"file_path\": \"public/resources/input/questions.md\"\n",
      "  },\n",
      "  {\n",
      "    \"file\": \"readme.md\",\n",
      "    \"name\": \"readme\",\n",
      "    \"ext\": \".md\",\n",
      "    \"file_path\": \"public/resources/input/readme.md\"\n",
      "  }\n",
      "]\n"
     ]
    }
   ],
   "source": [
    "files = list_files_with_metadata(path=INPUT_PATH, extension='.md')\n",
    "print(json.dumps(files, indent=2))\n"
   ]
  },
  {
   "cell_type": "code",
   "execution_count": 12,
   "metadata": {},
   "outputs": [
    {
     "data": {
      "text/plain": [
       "['core-concepts.md', 'questions.md', 'readme.md']"
      ]
     },
     "execution_count": 12,
     "metadata": {},
     "output_type": "execute_result"
    }
   ],
   "source": []
  },
  {
   "cell_type": "code",
   "execution_count": 13,
   "metadata": {},
   "outputs": [
    {
     "data": {
      "text/plain": [
       "[{'file': 'core-concepts.md',\n",
       "  'file_name': 'core-concepts',\n",
       "  'ext': '.md',\n",
       "  'file_path': 'public/resources/input/core-concepts.md'},\n",
       " {'file': 'questions.md',\n",
       "  'file_name': 'questions',\n",
       "  'ext': '.md',\n",
       "  'file_path': 'public/resources/input/questions.md'},\n",
       " {'file': 'readme.md',\n",
       "  'file_name': 'readme',\n",
       "  'ext': '.md',\n",
       "  'file_path': 'public/resources/input/readme.md'}]"
      ]
     },
     "execution_count": 13,
     "metadata": {},
     "output_type": "execute_result"
    }
   ],
   "source": []
  },
  {
   "cell_type": "code",
   "execution_count": null,
   "metadata": {},
   "outputs": [],
   "source": []
  }
 ],
 "metadata": {
  "kernelspec": {
   "display_name": "python396",
   "language": "python",
   "name": "python3"
  },
  "language_info": {
   "codemirror_mode": {
    "name": "ipython",
    "version": 3
   },
   "file_extension": ".py",
   "mimetype": "text/x-python",
   "name": "python",
   "nbconvert_exporter": "python",
   "pygments_lexer": "ipython3",
   "version": "3.9.19"
  }
 },
 "nbformat": 4,
 "nbformat_minor": 2
}
