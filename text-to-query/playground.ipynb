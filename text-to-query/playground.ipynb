{
 "cells": [
  {
   "cell_type": "code",
   "execution_count": null,
   "metadata": {},
   "outputs": [],
   "source": [
    "!pip freeze"
   ]
  },
  {
   "cell_type": "code",
   "execution_count": null,
   "metadata": {},
   "outputs": [],
   "source": [
    "def install_dotenv():\n",
    "    %pip install dotenv\n",
    "\n",
    "# install dotenv\n",
    "# install_dotenv()"
   ]
  },
  {
   "cell_type": "code",
   "execution_count": null,
   "metadata": {},
   "outputs": [],
   "source": [
    "from dotenv import load_dotenv\n",
    "import os\n",
    "\n",
    "# Load environment variables from .env file\n",
    "load_dotenv()\n",
    "\n",
    "# Access variables\n",
    "google_api_key = os.getenv('GOOGLE_API_KEY')\n",
    "gemini_api_key = os.getenv('GEMINI_API_KEY')\n",
    "database_url = os.getenv('DATABASE_URL')\n",
    "secret_key = os.getenv('SECRET_KEY')\n",
    "debug_mode = os.getenv('DEBUG') == 'True'\n",
    "\n",
    "print(f\"Database URL: {database_url}\")\n",
    "print(f\"Secret Key: {secret_key}\")\n",
    "print(f\"Debug Mode: {debug_mode}\")\n",
    "print(f\"Google API Key: {google_api_key}\")\n",
    "print(f\"Gemini API Key: {gemini_api_key}\")"
   ]
  }
 ],
 "metadata": {
  "kernelspec": {
   "display_name": "python396",
   "language": "python",
   "name": "python3"
  },
  "language_info": {
   "codemirror_mode": {
    "name": "ipython",
    "version": 3
   },
   "file_extension": ".py",
   "mimetype": "text/x-python",
   "name": "python",
   "nbconvert_exporter": "python",
   "pygments_lexer": "ipython3",
   "version": "3.9.19"
  }
 },
 "nbformat": 4,
 "nbformat_minor": 2
}
