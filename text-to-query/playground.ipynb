{
 "cells": [
  {
   "cell_type": "code",
   "execution_count": 5,
   "metadata": {},
   "outputs": [
    {
     "name": "stdout",
     "output_type": "stream",
     "text": [
      "6\n"
     ]
    }
   ],
   "source": [
    "reader = open('env.sh')\n",
    "punctuation = '.;,-“’”:?—‘!()_'\n",
    "\n",
    "freq_dict = {}\n",
    "for line in reader:\n",
    "  for word in line.split():\n",
    "    # Add code here to make a cleaned_word\n",
    "    cleaned_word = word.lower().strip(punctuation)\n",
    "    if cleaned_word in freq_dict:\n",
    "      freq_dict[cleaned_word]+=1\n",
    "    else:\n",
    "      freq_dict[cleaned_word]=1\n",
    "\n",
    "print(len(freq_dict))"
   ]
  },
  {
   "cell_type": "code",
   "execution_count": 4,
   "metadata": {},
   "outputs": [
    {
     "name": "stdout",
     "output_type": "stream",
     "text": [
      "Counter({'the': 2, 'and': 1})\n"
     ]
    }
   ],
   "source": [
    "from collections import Counter\n",
    "\n",
    "#create a Counter object called counter\n",
    "counter = Counter()\n",
    "counter[\"the\"] +=1\n",
    "counter[\"and\"] +=1\n",
    "counter[\"the\"] +=1\n",
    "print(counter)"
   ]
  },
  {
   "cell_type": "code",
   "execution_count": 25,
   "metadata": {},
   "outputs": [
    {
     "name": "stdout",
     "output_type": "stream",
     "text": [
      "4799\n",
      "[('the', 1663), ('of', 999), ('and', 993), ('to', 650), ('a', 624), ('i', 557), ('was', 468), ('in', 432), ('he', 367), ('that', 352), ('it', 323), ('my', 300), ('his', 284), ('with', 252), ('had', 242)]\n",
      "1663\n"
     ]
    }
   ],
   "source": [
    "from collections import Counter, defaultdict\n",
    "reader = open('assets/the-strange-case-of-dr-jekyll-and-mr-hyde.txt')\n",
    "punctuation = '.;,-“’”:?—‘!()_'\n",
    "\n",
    "freq_dict = Counter()\n",
    "for line in reader:\n",
    "  for word in line.split():\n",
    "    # Add code here to make a cleaned_word\n",
    "    cleaned_word = word.lower().strip(punctuation)\n",
    "    freq_dict[cleaned_word]+=1\n",
    "\n",
    "# print how many unique words there are\n",
    "print(len(freq_dict))\n",
    "\n",
    "# Print the most common words\n",
    "print(freq_dict.most_common(15))\n",
    "\n",
    "\n",
    "# Print the frequency of some word like \"exports\"\n",
    "print(freq_dict[\"the\"])\n",
    "\n",
    "# Print the list of most common words used after some word like \"the\"\n",
    "\n",
    "\n",
    "\n"
   ]
  },
  {
   "cell_type": "code",
   "execution_count": 61,
   "metadata": {},
   "outputs": [
    {
     "name": "stdout",
     "output_type": "stream",
     "text": [
      "the\n",
      "   horror\n",
      "   system\n",
      "   original\n",
      "   public\n",
      "   text\n",
      "original\n",
      "   work\n",
      "horror\n",
      "   movie\n",
      "   of\n",
      "   fact\n",
      "   profit\n",
      "work\n",
      "   has\n",
      "has\n",
      "   entered\n",
      "entered\n",
      "   the\n",
      "public\n",
      "   domain\n",
      "domain\n",
      "   is\n",
      "is\n",
      "   always\n",
      "always\n",
      "   possible\n",
      "possible\n",
      "   that\n",
      "that\n",
      "   some\n",
      "some\n",
      "   errors\n",
      "errors\n",
      "   may\n",
      "may\n",
      "   have\n",
      "have\n",
      "   crept\n",
      "crept\n",
      "   into\n",
      "into\n",
      "   the\n",
      "text\n",
      "   accidentally\n",
      "accidentally\n",
      "   but\n",
      "but\n",
      "   some\n",
      "resume\n",
      "   CV\n"
     ]
    }
   ],
   "source": [
    "from collections import Counter, defaultdict\n",
    "reader = open('assets/the-strange-case-of-dr-jekyll-and-mr-hyde.txt')\n",
    "punctuation = '.;,-“’”:?—‘!()_'\n",
    "\n",
    "freq_dict = Counter()\n",
    "next_word_dict = defaultdict(Counter)\n",
    "next_word_dict[\"the\"][\"horror\"] += 1\n",
    "next_word_dict[\"the\"][\"system\"] += 1\n",
    "next_word_dict[\"the\"][\"original\"] += 1\n",
    "next_word_dict[\"original\"][\"work\"] += 1\n",
    "next_word_dict[\"the\"][\"horror\"] += 1\n",
    "next_word_dict[\"horror\"][\"movie\"] += 1\n",
    "next_word_dict[\"horror\"][\"of\"] += 1\n",
    "next_word_dict[\"horror\"][\"fact\"] += 1\n",
    "next_word_dict[\"horror\"][\"profit\"] += 1\n",
    "next_word_dict[\"work\"][\"has\"] += 1\n",
    "next_word_dict[\"has\"][\"entered\"] += 1\n",
    "next_word_dict[\"entered\"][\"the\"] += 1\n",
    "next_word_dict[\"the\"][\"public\"] += 1\n",
    "next_word_dict[\"public\"][\"domain\"] += 1\n",
    "next_word_dict[\"domain\"][\"is\"] += 1\n",
    "next_word_dict[\"is\"][\"always\"] += 1\n",
    "next_word_dict[\"always\"][\"possible\"] += 1\n",
    "next_word_dict[\"possible\"][\"that\"] += 1\n",
    "next_word_dict[\"that\"][\"some\"] += 1\n",
    "next_word_dict[\"some\"][\"errors\"] += 1\n",
    "next_word_dict[\"errors\"][\"may\"] += 1\n",
    "next_word_dict[\"may\"][\"have\"] += 1\n",
    "next_word_dict[\"have\"][\"crept\"] += 1\n",
    "next_word_dict[\"crept\"][\"into\"] += 1\n",
    "next_word_dict[\"into\"][\"the\"] += 1\n",
    "next_word_dict[\"the\"][\"text\"] += 1\n",
    "next_word_dict[\"text\"][\"accidentally\"] += 1\n",
    "next_word_dict[\"accidentally\"][\"but\"] += 1\n",
    "next_word_dict[\"but\"][\"some\"] += 1\n",
    "next_word_dict[\"some\"][\"errors\"] += 1\n",
    "next_word_dict[\"errors\"][\"may\"] += 1\n",
    "next_word_dict[\"resume\"][\"CV\"] += 1\n",
    "\n",
    "\n",
    "predictions_closest_words = {}\n",
    "for word, word_forwards in next_word_dict.items():\n",
    "    if word not in predictions_closest_words:\n",
    "        predictions_closest_words[word] = []\n",
    "    predictions_closest_words[word] += [w for w, c in word_forwards.most_common(10)]\n",
    "\n",
    "\n",
    "for search_word, predictions in predictions_closest_words.items():\n",
    "    print(search_word)\n",
    "    for prediction in predictions:\n",
    "        print(\"  \", prediction)\n",
    "\n",
    "\n",
    "# print(next_word_dict[\"the\"].most_common(1))\n",
    "# print(next_word_dict[next_word_dict[\"the\"].most_common(1)[0][0]].most_common(1))\n"
   ]
  },
  {
   "cell_type": "code",
   "execution_count": 114,
   "metadata": {},
   "outputs": [
    {
     "name": "stdout",
     "output_type": "stream",
     "text": [
      "the (1663):\n",
      "   lawyer     \t 65\n",
      "   strange     \t 36\n",
      "   door     \t 32\n",
      "--------------------------------------------------\n",
      "of (999):\n",
      "   the     \t 190\n",
      "   a     \t 72\n",
      "   my     \t 61\n",
      "--------------------------------------------------\n",
      "and (993):\n",
      "   the     \t 80\n",
      "   i     \t 39\n",
      "   mr     \t 36\n",
      "--------------------------------------------------\n",
      "to (650):\n",
      "   the     \t 74\n",
      "   be     \t 48\n",
      "   his     \t 22\n",
      "--------------------------------------------------\n",
      "a (624):\n",
      "   man     \t 27\n",
      "   great     \t 16\n",
      "   very     \t 11\n",
      "--------------------------------------------------\n",
      "[('the', 4), ('mr', 1), ('poole', 1), ('utterson', 1)]\n"
     ]
    },
    {
     "data": {
      "text/plain": [
       "('poole', 1)"
      ]
     },
     "execution_count": 114,
     "metadata": {},
     "output_type": "execute_result"
    }
   ],
   "source": [
    "from collections import Counter, defaultdict\n",
    "reader = open('assets/the-strange-case-of-dr-jekyll-and-mr-hyde.txt')\n",
    "punctuation = '.;,-“’”:?—‘!()_'\n",
    "\n",
    "freq_dict = Counter()\n",
    "next_word_dict = defaultdict(Counter)\n",
    "\n",
    "\n",
    "previous_word = None\n",
    "for line in reader:\n",
    "    words = line.split()\n",
    "    for word in words:\n",
    "        cleaned_word = word.lower().strip(punctuation)\n",
    "        if cleaned_word:\n",
    "            freq_dict[cleaned_word] += 1\n",
    "            if previous_word:\n",
    "                next_word_dict[previous_word][cleaned_word] += 1\n",
    "            previous_word = cleaned_word\n",
    "\n",
    "for w, c in freq_dict.most_common(5):\n",
    "    print(w, f'({c}):')\n",
    "    predictions = next_word_dict[w].most_common(3)\n",
    "    for prediction, count in predictions:\n",
    "        print(\"  \",prediction,\"   \", \"\\t\", count)\n",
    "    print('-'*50)\n",
    "\n",
    "print(next_word_dict[\"continued\"].most_common(50))\n",
    "import random\n",
    "random.choice(next_word_dict[\"continued\"].most_common(50))\n"
   ]
  },
  {
   "cell_type": "code",
   "execution_count": 109,
   "metadata": {},
   "outputs": [
    {
     "name": "stdout",
     "output_type": "stream",
     "text": [
      "Mr. Hyde 60\n",
      "Dr. Jekyll 52\n",
      "Mr. Utterson 63\n"
     ]
    }
   ],
   "source": [
    "\n",
    "bigrams_list = [[\"Mr.\", \"Hyde\"], [\"Dr.\", \"Jekyll\"], [\"Mr.\",\"Utterson\"]]\n",
    "def toLower(s:str):\n",
    "  return s.strip('.;,-“’”:?—‘!()_').lower()\n",
    "for l, r in bigrams_list:\n",
    "  print(l,r, next_word_dict[toLower(l)][toLower(r)])"
   ]
  },
  {
   "cell_type": "code",
   "execution_count": 99,
   "metadata": {},
   "outputs": [
    {
     "name": "stdout",
     "output_type": "stream",
     "text": [
      "['Where', 'Utterson']\n",
      "['Utterson', 'was']\n",
      "['was', 'liked,']\n",
      "['liked,', 'he']\n",
      "['he', 'was']\n",
      "['was', 'liked']\n",
      "['liked', 'well.']\n"
     ]
    }
   ],
   "source": [
    "window = []\n",
    "sentence = 'Where Utterson was liked, he was liked well.'.split()\n",
    "for word in sentence:\n",
    "  window.append(word)\n",
    "  if len(window) < 2:\n",
    "    continue\n",
    "  if len(window) > 2:\n",
    "    window.pop(0) # Remove the oldest word in the window. \n",
    "  print(window)"
   ]
  },
  {
   "cell_type": "code",
   "execution_count": 100,
   "metadata": {},
   "outputs": [
    {
     "name": "stdout",
     "output_type": "stream",
     "text": [
      "['Where', 'Utterson']\n",
      "['Utterson', 'was']\n",
      "['was', 'liked,']\n",
      "['liked,', 'he']\n",
      "['he', 'was']\n",
      "['was', 'liked']\n",
      "['liked', 'well.']\n"
     ]
    }
   ],
   "source": [
    "window = []\n",
    "sentence_string = 'Where Utterson was liked, he was liked well.'\n",
    "windows = []\n",
    "sentence = sentence_string.split()\n",
    "for word in sentence:\n",
    "    window.append(word)\n",
    "    window_size = len(window)\n",
    "    if window_size < 2:\n",
    "        continue\n",
    "    # while window_size greater than 2, remove the first word from the window:\n",
    "    while window_size > 2:\n",
    "        window.pop(0)\n",
    "        window_size = len(window)\n",
    "    windows.append([]+window)\n",
    "\n",
    "for l, r in windows:\n",
    "    print([l,r])"
   ]
  },
  {
   "cell_type": "code",
   "execution_count": 103,
   "metadata": {},
   "outputs": [
    {
     "name": "stdout",
     "output_type": "stream",
     "text": [
      "dr\n",
      "{'DR': 1}\n"
     ]
    }
   ],
   "source": [
    "dict = {}\n",
    "my_string = \"DR\"\n",
    "dict[my_string] = 1\n",
    "my_string = my_string.lower()\n",
    "print(my_string)\n",
    "print(dict)"
   ]
  },
  {
   "cell_type": "code",
   "execution_count": null,
   "metadata": {},
   "outputs": [],
   "source": []
  },
  {
   "cell_type": "code",
   "execution_count": 21,
   "metadata": {
    "tags": [
     "parameters"
    ]
   },
   "outputs": [
    {
     "name": "stdout",
     "output_type": "stream",
     "text": [
      "Before: s 0\n",
      "After: s 1\n"
     ]
    }
   ],
   "source": [
    "# string to counter\n",
    "string_to_counter = \"horror\"\n",
    "key = 's'\n",
    "\n",
    "counter = Counter(string_to_counter)\n",
    "\n",
    "print(\"Before:\",key, counter[key])\n",
    "\n",
    "counter[key] += 1\n",
    "\n",
    "print(\"After:\",key, counter[key])"
   ]
  },
  {
   "cell_type": "code",
   "execution_count": null,
   "metadata": {},
   "outputs": [],
   "source": [
    "\n",
    "counter = Counter(string_to_counter)\n",
    "key = 's'\n",
    "\n",
    "print(\"Before:\",key, counter[key])\n",
    "\n",
    "counter[key] += 1\n",
    "\n",
    "print(\"After:\",key, counter[key])"
   ]
  },
  {
   "cell_type": "code",
   "execution_count": null,
   "metadata": {},
   "outputs": [],
   "source": [
    "!pip freeze"
   ]
  },
  {
   "cell_type": "code",
   "execution_count": null,
   "metadata": {},
   "outputs": [],
   "source": [
    "%pip install dotenv"
   ]
  },
  {
   "cell_type": "code",
   "execution_count": null,
   "metadata": {},
   "outputs": [],
   "source": [
    "from dotenv import load_dotenv\n",
    "import os\n",
    "\n",
    "# Load environment variables from .env file\n",
    "load_dotenv()\n",
    "\n",
    "# Access variables\n",
    "google_api_key = os.getenv('GOOGLE_API_KEY')\n",
    "gemini_api_key = os.getenv('GEMINI_API_KEY')\n",
    "database_url = os.getenv('DATABASE_URL')\n",
    "secret_key = os.getenv('SECRET_KEY')\n",
    "debug_mode = os.getenv('DEBUG') == 'True'\n",
    "\n",
    "print(f\"Database URL: {database_url}\")\n",
    "print(f\"Secret Key: {secret_key}\")\n",
    "print(f\"Debug Mode: {debug_mode}\")\n",
    "print(f\"Google API Key: {google_api_key}\")\n",
    "print(f\"Gemini API Key: {gemini_api_key}\")"
   ]
  }
 ],
 "metadata": {
  "kernelspec": {
   "display_name": "python396",
   "language": "python",
   "name": "python3"
  },
  "language_info": {
   "codemirror_mode": {
    "name": "ipython",
    "version": 3
   },
   "file_extension": ".py",
   "mimetype": "text/x-python",
   "name": "python",
   "nbconvert_exporter": "python",
   "pygments_lexer": "ipython3",
   "version": "3.9.19"
  }
 },
 "nbformat": 4,
 "nbformat_minor": 2
}
