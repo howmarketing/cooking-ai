{
  "cells": [
    {
      "cell_type": "code",
      "execution_count": 1,
      "metadata": {
        "colab": {
          "base_uri": "https://localhost:8080/",
          "height": 36
        },
        "id": "Am0apUR492gS",
        "outputId": "3f151d30-49ca-4524-903b-050480b5d5d2"
      },
      "outputs": [
        {
          "data": {
            "application/vnd.google.colaboratory.intrinsic+json": {
              "type": "string"
            },
            "text/plain": [
              "'\\nInstall the Google AI Python SDK\\n\\n$ pip install google-generativeai\\n'"
            ]
          },
          "execution_count": 1,
          "metadata": {},
          "output_type": "execute_result"
        }
      ],
      "source": [
        "\"\"\"\n",
        "Install the Google AI Python SDK\n",
        "\n",
        "$ pip install google-generativeai\n",
        "\"\"\""
      ]
    },
    {
      "cell_type": "code",
      "execution_count": null,
      "metadata": {
        "id": "kmwlRtn7xMB1"
      },
      "outputs": [],
      "source": [
        "%pip install google-generativeai"
      ]
    },
    {
      "cell_type": "code",
      "execution_count": 3,
      "metadata": {
        "id": "f28zYl-XyQ7L"
      },
      "outputs": [],
      "source": [
        "def install_requirements():\n",
        "  %pip install -r requirements.txt\n",
        "\n",
        "def show_requirements():\n",
        "  %pip list\n",
        "\n",
        "def read_requirements():\n",
        "  with open('requirements.txt', 'r') as file:\n",
        "    lines = file.readlines()\n",
        "    for line in lines:\n",
        "        print(line.strip())\n",
        "\n",
        "def pip_freeze_requirements():\n",
        "  !pip freeze > requirements.txt"
      ]
    },
    {
      "cell_type": "code",
      "execution_count": 5,
      "metadata": {
        "id": "HEUYcI5z9yf1"
      },
      "outputs": [],
      "source": [
        "import os\n",
        "import json\n",
        "from dotenv import load_dotenv\n",
        "import google.generativeai as genai\n",
        "\n",
        "# Load environment variables from .env file\n",
        "load_dotenv()\n",
        "\n",
        "# Access variables\n",
        "google_api_key = os.getenv('GOOGLE_API_KEY')\n",
        "gemini_api_key = os.getenv('GEMINI_API_KEY')"
      ]
    },
    {
      "cell_type": "code",
      "execution_count": 6,
      "metadata": {
        "id": "d9LkkHUd98ch"
      },
      "outputs": [],
      "source": [
        "# from google.colab import userdata\n",
        "\n",
        "# API_KEY=userdata.get('GEMINI_API_KEY')\n",
        "# API_KEY=os.environ[\"GEMINI_API_KEY\"]\n",
        "API_KEY=gemini_api_key"
      ]
    },
    {
      "cell_type": "code",
      "execution_count": null,
      "metadata": {
        "colab": {
          "base_uri": "https://localhost:8080/",
          "height": 35
        },
        "id": "XEA58ENO-rOS",
        "outputId": "b7ec54e4-3714-4c1d-8aee-b5da7c7d5b36"
      },
      "outputs": [],
      "source": [
        "API_KEY"
      ]
    },
    {
      "cell_type": "code",
      "execution_count": 8,
      "metadata": {
        "id": "9Xj09iBV-YbT"
      },
      "outputs": [],
      "source": [
        "genai.configure(api_key=API_KEY)"
      ]
    },
    {
      "cell_type": "code",
      "execution_count": 9,
      "metadata": {
        "id": "A5Y3_Xtm-2aR"
      },
      "outputs": [],
      "source": [
        "# Create the model\n",
        "generation_config = {\n",
        "  \"temperature\": 0.75,\n",
        "  \"top_p\": 0.95,\n",
        "  \"top_k\": 64,\n",
        "  \"max_output_tokens\": 8192,\n",
        "  \"response_mime_type\": \"text/plain\",\n",
        "}\n",
        "\n",
        "model = genai.GenerativeModel(\n",
        "  model_name=\"gemini-1.5-pro-exp-0801\",\n",
        "  generation_config=generation_config,\n",
        "  # safety_settings = Adjust safety settings\n",
        "  # See https://ai.google.dev/gemini-api/docs/safety-settings\n",
        ")\n"
      ]
    },
    {
      "cell_type": "code",
      "execution_count": 10,
      "metadata": {
        "id": "RFD52ImYMtJK"
      },
      "outputs": [],
      "source": [
        "history=[\n",
        "    {\n",
        "        \"role\": \"user\",\n",
        "        \"parts\": [\"# HUMAN NATURAL LANGUAGE INTERPRETER TRANSPILES TO SQL QUERY (MYSQL) \\n\\nBy now, you are a sql (MySql) interpreter, where the user can \\\"query\\\" on database by asking as a natural language.\\nYour response should be only the query between \\\"```SQL\\\" and \\\"```\\\".\\n\\n> Key Takeaway: This example demonstrates the successful translation of a natural language request into a structured SQL query, highlighting the importance of understanding the nuances of both human language and database querying.\\n> This ability is crucial for bridging the gap between user needs and data retrieval.\\n\\nFor the context, follow the `users` and `orders` table structures:\\n\\n**`users` Table:**\\n\\n| Column Name      | Data Type      | Constraints                               | Description                                      |\\n|------------------|-----------------|-------------------------------------------|--------------------------------------------------|\\n| `id`             | INT UNSIGNED    | PRIMARY KEY, AUTO_INCREMENT                 | Unique identifier for each user                  |\\n| `first_name`     | VARCHAR(255)   | NOT NULL                                  | User's first name                               |\\n| `last_name`      | VARCHAR(255)   | NOT NULL                                  | User's last name                                |\\n| `email`          | VARCHAR(255)   | NOT NULL, UNIQUE                           | User's email address (must be unique)           |\\n| `active_status` | BOOLEAN        | DEFAULT TRUE                               | Indicates if the user is active (true/false)      |\\n| `created_at`    | TIMESTAMP      | DEFAULT CURRENT_TIMESTAMP                 | Timestamp indicating when the user was created    |\\n| `updated_at`    | TIMESTAMP      | DEFAULT CURRENT_TIMESTAMP ON UPDATE CURRENT_TIMESTAMP | Timestamp indicating when the user was last updated |\\n\\n**`orders` Table:**\\n\\n| Column Name      | Data Type      | Constraints                               | Description                                       |\\n|------------------|-----------------|-------------------------------------------|---------------------------------------------------|\\n| `id`             | INT UNSIGNED    | PRIMARY KEY, AUTO_INCREMENT                 | Unique identifier for each order                   |\\n| `user_id`        | INT UNSIGNED    | NOT NULL, FOREIGN KEY (`user_id`) REFERENCES `users`(`id`) | Identifier of the user who placed the order        |\\n| `order_date`     | DATETIME        | NOT NULL                                  | Date and time when the order was placed          |\\n| `total_amount`   | DECIMAL(10, 2) | NOT NULL                                  | Total amount of the order (in currency units)     |\\n| `created_at`    | TIMESTAMP      | DEFAULT CURRENT_TIMESTAMP                 | Timestamp indicating when the order was created     |\\n| `updated_at`    | TIMESTAMP      | DEFAULT CURRENT_TIMESTAMP ON UPDATE CURRENT_TIMESTAMP | Timestamp indicating when the order was last updated  |\\n\\n**Key Relationships:**\\n\\n* **One-to-Many:** The `users` table has a one-to-many relationship with the `orders` table. One user can have multiple orders, but each order belongs to only one user. This relationship is established through the `user_id` foreign key in the `orders` table.\\n\\n**Data Types and Constraints:**\\n\\n* **`INT UNSIGNED`:** Integer values (positive whole numbers)\\n* **`VARCHAR(255)`:** Variable-length string (up to 255 characters)\\n* **`BOOLEAN`:** True/false values\\n* **`TIMESTAMP`:** Stores date and time information\\n* **`DECIMAL(10, 2)`:** Decimal values with a precision of 10 digits and a scale of 2 (e.g., 12345678.90)\\n* **`PRIMARY KEY`:** Uniquely identifies each row in a table\\n* **`AUTO_INCREMENT`:** Automatically generates the next sequential value for the primary key\\n* **`NOT NULL`:** Ensures that a column cannot have a null value\\n* **`UNIQUE`:** Ensures that all values in a column are unique\\n* **`FOREIGN KEY`:** Establishes a link between two tables based on a common column (enforces referential integrity)\\n\\n\\nUser request:\\n\\nEloquent.query(\\\"I need a list of all active users who have spent more than $100 in the last month. The list should include their name, email, total amount spent, average order value, their latest order date, and how many orders they've placed. Sort the list by the total amount spent, with the highest spenders at the top.\\\");\\n\\nAssistant answer: \\n\\n```SQL\\n-- Retrieve active users who have placed orders with a total value exceeding $100 in the last month,\\n-- along with their average order value, latest order date, and number of orders.\\n\\nSELECT \\n    u.id AS user_id,                  -- User ID\\n    u.first_name,                     -- User's first name\\n    u.last_name,                      -- User's last name\\n    u.email,                          -- User's email address\\n    SUM(o.total_amount) AS total_spent, -- Total amount spent by the user\\n    AVG(o.total_amount) AS average_order_value, -- Average order value\\n    MAX(o.order_date) AS latest_order_date, -- Date of the latest order\\n    COUNT(o.id) AS total_orders         -- Total number of orders placed\\nFROM \\n    users u                           -- From the users table (aliased as 'u')\\nINNER JOIN \\n    orders o ON u.id = o.user_id     -- Join with the orders table (aliased as 'o') based on matching user IDs\\nWHERE \\n    u.active_status = 1             -- Filter for active users\\n    AND o.order_date >= DATE_SUB(CURDATE(), INTERVAL 1 MONTH) -- Filter for orders within the last month\\nGROUP BY \\n    u.id                             -- Group the results by user ID\\nHAVING \\n    total_spent > 100                -- Filter for users with total spending exceeding $100\\nORDER BY \\n    total_spent DESC;                -- Order the results by total spending in descending order;\\n```\\n\"]\n",
        "    },\n",
        "    {\n",
        "        \"role\": \"model\",\n",
        "        \"parts\": [\"```sql\\nSELECT\\n    u.first_name,\\n    u.last_name,\\n    u.email,\\n    SUM(o.total_amount) AS total_spent,\\n    AVG(o.total_amount) AS average_order_value,\\n    MAX(o.order_date) AS latest_order_date,\\n    COUNT(o.id) AS total_orders\\nFROM\\n    users u\\nJOIN\\n    orders o ON u.id = o.user_id\\nWHERE\\n    u.active_status = TRUE\\n    AND o.order_date >= DATE_SUB(CURDATE(), INTERVAL 1 MONTH)\\nGROUP BY\\n    u.id, u.first_name, u.last_name, u.email\\nHAVING\\n    total_spent > 100\\nORDER BY\\n    total_spent DESC;\\n```\"]\n",
        "    },\n",
        "    {\n",
        "        \"role\": \"user\",\n",
        "        \"parts\": [\"Eloquent.query(\\\"select all users where the user `active_status` is true/not null/greater than zero and join users on orders table, where orders table has `user_id` field to match his orders and these orders need to be ordered by the orders.id as DESC\\\");\\n\"]\n",
        "    },\n",
        "    {\n",
        "        \"role\": \"model\",\n",
        "        \"parts\": [\"```sql\\nSELECT\\n    u.*\\nFROM\\n    users u\\nJOIN\\n    orders o ON u.id = o.user_id\\nWHERE\\n    u.active_status = TRUE\\nORDER BY\\n    o.id DESC;\\n```\\n\"]\n",
        "    }\n",
        "]"
      ]
    },
    {
      "cell_type": "code",
      "execution_count": 11,
      "metadata": {
        "id": "YxN9aliV-5XB"
      },
      "outputs": [],
      "source": [
        "chat_session = model.start_chat(history=history)"
      ]
    },
    {
      "cell_type": "code",
      "execution_count": 12,
      "metadata": {
        "id": "65ocfu63N4oX"
      },
      "outputs": [],
      "source": [
        "def reset_chat_session():\n",
        "  chat_session = model.start_chat(history=history)\n",
        "  return chat_session"
      ]
    },
    {
      "cell_type": "code",
      "execution_count": 13,
      "metadata": {
        "colab": {
          "base_uri": "https://localhost:8080/"
        },
        "id": "3F9rmLTuP0j8",
        "outputId": "a0854926-a45f-4a0d-d07c-49ff3e938e75"
      },
      "outputs": [
        {
          "name": "stdout",
          "output_type": "stream",
          "text": [
            "\n",
            " ============================================================================== \n",
            "\n",
            "user # HUMAN NATURAL LANGUAGE INTERPRETER TRANSPILES TO SQL QUERY (MYSQL) \n",
            "\n",
            "By now, you are a sql (MySql) interpreter, where the user can \"query\" on database by asking as a natural language.\n",
            "Your response should be only the query between \"```SQL\" and \"```\".\n",
            "\n",
            "> Key Takeaway: This example demonstrates the successful translation of a natural language request into a structured SQL query, highlighting the importance of understanding the nuances of both human language and database querying.\n",
            "> This ability is crucial for bridging the gap between user needs and data retrieval.\n",
            "\n",
            "For the context, follow the `users` and `orders` table structures:\n",
            "\n",
            "**`users` Table:**\n",
            "\n",
            "| Column Name      | Data Type      | Constraints                               | Description                                      |\n",
            "|------------------|-----------------|-------------------------------------------|--------------------------------------------------|\n",
            "| `id`             | INT UNSIGNED    | PRIMARY KEY, AUTO_INCREMENT                 | Unique identifier for each user                  |\n",
            "| `first_name`     | VARCHAR(255)   | NOT NULL                                  | User's first name                               |\n",
            "| `last_name`      | VARCHAR(255)   | NOT NULL                                  | User's last name                                |\n",
            "| `email`          | VARCHAR(255)   | NOT NULL, UNIQUE                           | User's email address (must be unique)           |\n",
            "| `active_status` | BOOLEAN        | DEFAULT TRUE                               | Indicates if the user is active (true/false)      |\n",
            "| `created_at`    | TIMESTAMP      | DEFAULT CURRENT_TIMESTAMP                 | Timestamp indicating when the user was created    |\n",
            "| `updated_at`    | TIMESTAMP      | DEFAULT CURRENT_TIMESTAMP ON UPDATE CURRENT_TIMESTAMP | Timestamp indicating when the user was last updated |\n",
            "\n",
            "**`orders` Table:**\n",
            "\n",
            "| Column Name      | Data Type      | Constraints                               | Description                                       |\n",
            "|------------------|-----------------|-------------------------------------------|---------------------------------------------------|\n",
            "| `id`             | INT UNSIGNED    | PRIMARY KEY, AUTO_INCREMENT                 | Unique identifier for each order                   |\n",
            "| `user_id`        | INT UNSIGNED    | NOT NULL, FOREIGN KEY (`user_id`) REFERENCES `users`(`id`) | Identifier of the user who placed the order        |\n",
            "| `order_date`     | DATETIME        | NOT NULL                                  | Date and time when the order was placed          |\n",
            "| `total_amount`   | DECIMAL(10, 2) | NOT NULL                                  | Total amount of the order (in currency units)     |\n",
            "| `created_at`    | TIMESTAMP      | DEFAULT CURRENT_TIMESTAMP                 | Timestamp indicating when the order was created     |\n",
            "| `updated_at`    | TIMESTAMP      | DEFAULT CURRENT_TIMESTAMP ON UPDATE CURRENT_TIMESTAMP | Timestamp indicating when the order was last updated  |\n",
            "\n",
            "**Key Relationships:**\n",
            "\n",
            "* **One-to-Many:** The `users` table has a one-to-many relationship with the `orders` table. One user can have multiple orders, but each order belongs to only one user. This relationship is established through the `user_id` foreign key in the `orders` table.\n",
            "\n",
            "**Data Types and Constraints:**\n",
            "\n",
            "* **`INT UNSIGNED`:** Integer values (positive whole numbers)\n",
            "* **`VARCHAR(255)`:** Variable-length string (up to 255 characters)\n",
            "* **`BOOLEAN`:** True/false values\n",
            "* **`TIMESTAMP`:** Stores date and time information\n",
            "* **`DECIMAL(10, 2)`:** Decimal values with a precision of 10 digits and a scale of 2 (e.g., 12345678.90)\n",
            "* **`PRIMARY KEY`:** Uniquely identifies each row in a table\n",
            "* **`AUTO_INCREMENT`:** Automatically generates the next sequential value for the primary key\n",
            "* **`NOT NULL`:** Ensures that a column cannot have a null value\n",
            "* **`UNIQUE`:** Ensures that all values in a column are unique\n",
            "* **`FOREIGN KEY`:** Establishes a link between two tables based on a common column (enforces referential integrity)\n",
            "\n",
            "\n",
            "User request:\n",
            "\n",
            "Eloquent.query(\"I need a list of all active users who have spent more than $100 in the last month. The list should include their name, email, total amount spent, average order value, their latest order date, and how many orders they've placed. Sort the list by the total amount spent, with the highest spenders at the top.\");\n",
            "\n",
            "Assistant answer: \n",
            "\n",
            "```SQL\n",
            "-- Retrieve active users who have placed orders with a total value exceeding $100 in the last month,\n",
            "-- along with their average order value, latest order date, and number of orders.\n",
            "\n",
            "SELECT \n",
            "    u.id AS user_id,                  -- User ID\n",
            "    u.first_name,                     -- User's first name\n",
            "    u.last_name,                      -- User's last name\n",
            "    u.email,                          -- User's email address\n",
            "    SUM(o.total_amount) AS total_spent, -- Total amount spent by the user\n",
            "    AVG(o.total_amount) AS average_order_value, -- Average order value\n",
            "    MAX(o.order_date) AS latest_order_date, -- Date of the latest order\n",
            "    COUNT(o.id) AS total_orders         -- Total number of orders placed\n",
            "FROM \n",
            "    users u                           -- From the users table (aliased as 'u')\n",
            "INNER JOIN \n",
            "    orders o ON u.id = o.user_id     -- Join with the orders table (aliased as 'o') based on matching user IDs\n",
            "WHERE \n",
            "    u.active_status = 1             -- Filter for active users\n",
            "    AND o.order_date >= DATE_SUB(CURDATE(), INTERVAL 1 MONTH) -- Filter for orders within the last month\n",
            "GROUP BY \n",
            "    u.id                             -- Group the results by user ID\n",
            "HAVING \n",
            "    total_spent > 100                -- Filter for users with total spending exceeding $100\n",
            "ORDER BY \n",
            "    total_spent DESC;                -- Order the results by total spending in descending order;\n",
            "```\n",
            "\n",
            "\n",
            " ------------------------------------------------------------------------------ \n",
            "\n",
            "\n",
            " ============================================================================== \n",
            "\n",
            "model ```sql\n",
            "SELECT\n",
            "    u.first_name,\n",
            "    u.last_name,\n",
            "    u.email,\n",
            "    SUM(o.total_amount) AS total_spent,\n",
            "    AVG(o.total_amount) AS average_order_value,\n",
            "    MAX(o.order_date) AS latest_order_date,\n",
            "    COUNT(o.id) AS total_orders\n",
            "FROM\n",
            "    users u\n",
            "JOIN\n",
            "    orders o ON u.id = o.user_id\n",
            "WHERE\n",
            "    u.active_status = TRUE\n",
            "    AND o.order_date >= DATE_SUB(CURDATE(), INTERVAL 1 MONTH)\n",
            "GROUP BY\n",
            "    u.id, u.first_name, u.last_name, u.email\n",
            "HAVING\n",
            "    total_spent > 100\n",
            "ORDER BY\n",
            "    total_spent DESC;\n",
            "```\n",
            "\n",
            " ------------------------------------------------------------------------------ \n",
            "\n",
            "\n",
            " ============================================================================== \n",
            "\n",
            "user Eloquent.query(\"select all users where the user `active_status` is true/not null/greater than zero and join users on orders table, where orders table has `user_id` field to match his orders and these orders need to be ordered by the orders.id as DESC\");\n",
            "\n",
            "\n",
            " ------------------------------------------------------------------------------ \n",
            "\n",
            "\n",
            " ============================================================================== \n",
            "\n",
            "model ```sql\n",
            "SELECT\n",
            "    u.*\n",
            "FROM\n",
            "    users u\n",
            "JOIN\n",
            "    orders o ON u.id = o.user_id\n",
            "WHERE\n",
            "    u.active_status = TRUE\n",
            "ORDER BY\n",
            "    o.id DESC;\n",
            "```\n",
            "\n",
            "\n",
            " ------------------------------------------------------------------------------ \n",
            "\n"
          ]
        }
      ],
      "source": [
        "def print_out_chat_history(chat_session):\n",
        "  ch = chat_session.history\n",
        "  for i in ch:\n",
        "    print(\"\\n\", '='*78, \"\\n\")\n",
        "    ch_role = i.role\n",
        "    ch_parts = '\\n'.join([p.text for p in i.parts]) # Call join on the delimiter string\n",
        "    print(ch_role, ch_parts)\n",
        "    print(\"\\n\", '-'*78, \"\\n\")\n",
        "\n",
        "print_out_chat_history(chat_session)"
      ]
    },
    {
      "cell_type": "code",
      "execution_count": 14,
      "metadata": {
        "id": "ZIS8L0is_CKI"
      },
      "outputs": [],
      "source": [
        "def get_user_input_templated(user_input: str = \"\"):\n",
        "  formatted_string = f'User: Enloquent.query(\"{user_input}\")' # Use {} as placeholder\n",
        "  input_data = {\n",
        "      \"user_input\": formatted_string # Store the formatted string in the dictionary\n",
        "  }\n",
        "  # JSON stringify\n",
        "  input_data = json.dumps([input_data[\"user_input\"]], indent=2)\n",
        "  return json.loads(input_data)[0]"
      ]
    },
    {
      "cell_type": "code",
      "execution_count": 15,
      "metadata": {
        "colab": {
          "base_uri": "https://localhost:8080/",
          "height": 53
        },
        "id": "QaAqrznrA0n2",
        "outputId": "16c26091-0043-48bb-b974-d29c75410102"
      },
      "outputs": [
        {
          "data": {
            "text/plain": [
              "'select all users where the user active_status is true/not null/greater than zero and\\njoin users on orders table, where orders table has user_id field to match his orders and\\nthese orders need to be ordered by the orders.id as DESC'"
            ]
          },
          "execution_count": 15,
          "metadata": {},
          "output_type": "execute_result"
        }
      ],
      "source": [
        "user_prompt = \"\"\"select all users where the user active_status is true/not null/greater than zero and\n",
        "join users on orders table, where orders table has user_id field to match his orders and\n",
        "these orders need to be ordered by the orders.id as DESC\"\"\"\n",
        "user_prompt"
      ]
    },
    {
      "cell_type": "code",
      "execution_count": 16,
      "metadata": {
        "colab": {
          "base_uri": "https://localhost:8080/"
        },
        "id": "rvHFM0eRDsjB",
        "outputId": "831ca895-980b-4b99-af05-62779b2a2e46"
      },
      "outputs": [
        {
          "name": "stdout",
          "output_type": "stream",
          "text": [
            "User: Enloquent.query(\"select all users where the user active_status is true/not null/greater than zero and\n",
            "join users on orders table, where orders table has user_id field to match his orders and\n",
            "these orders need to be ordered by the orders.id as DESC\")\n",
            "User: Enloquent.query(\"Select the best sellers products ordered by category most sell followd by product most sell\")\n"
          ]
        }
      ],
      "source": [
        "templated_prompt_1 = get_user_input_templated(user_prompt)\n",
        "print(templated_prompt_1)\n",
        "templated_prompt_2 = get_user_input_templated('Select the best sellers products ordered by category most sell followd by product most sell')\n",
        "print(templated_prompt_2)"
      ]
    },
    {
      "cell_type": "code",
      "execution_count": 17,
      "metadata": {
        "id": "HlwulbnnHOTC"
      },
      "outputs": [],
      "source": [
        "def send_to_chat(prompt: str = ''):\n",
        "  try:\n",
        "    response = chat_session.send_message(prompt)\n",
        "    return response.text\n",
        "  except Exception as e:\n",
        "    print(f\"An error occurred: {e}\")\n",
        "    return None"
      ]
    },
    {
      "cell_type": "code",
      "execution_count": 21,
      "metadata": {
        "colab": {
          "base_uri": "https://localhost:8080/",
          "height": 211
        },
        "id": "VoRAK-JKGytR",
        "outputId": "19f1248a-cb81-4962-a3ae-259fd93ddece"
      },
      "outputs": [
        {
          "name": "stdout",
          "output_type": "stream",
          "text": [
            "User: Enloquent.query(\"select all users that have spent more than $100 in the last month. The list should include their name, email, total amount spent, average order value, their latest order date, and how many orders they've placed. Sort the list by the total amount spent, with the highest spenders at the top.\")\n",
            "[\n",
            "  {\n",
            "    \"query\": \"```sql\\nSELECT\\n    u.first_name,\\n    u.last_name,\\n    u.email,\\n    SUM(o.total_amount) AS total_spent,\\n    AVG(o.total_amount) AS average_order_value,\\n    MAX(o.order_date) AS latest_order_date,\\n    COUNT(o.id) AS total_orders\\nFROM\\n    users u\\nJOIN\\n    orders o ON u.id = o.user_id\\nWHERE\\n    o.order_date >= DATE_SUB(CURDATE(), INTERVAL 1 MONTH)\\nGROUP BY\\n    u.id, u.first_name, u.last_name, u.email\\nHAVING\\n    total_spent > 100\\nORDER BY\\n    total_spent DESC;\\n```\",\n",
            "    \"user_input\": \"select all users that have spent more than $100 in the last month. The list should include their name, email, total amount spent, average order value, their latest order date, and how many orders they've placed. Sort the list by the total amount spent, with the highest spenders at the top.\"\n",
            "  }\n",
            "]\n"
          ]
        }
      ],
      "source": [
        "# @title Recursive UX V-0.3\n",
        "\n",
        "def Ux():\n",
        "  user_input = input(\"User natual language prompt to SQL query (MySQL): \")\n",
        "  prompt = get_user_input_templated(user_input)\n",
        "  print(prompt)\n",
        "  confirm = input(\"Confirm? (y/n): \")\n",
        "  if confirm.lower() == \"n\":\n",
        "    return Ux()\n",
        "  try:\n",
        "    body = send_to_chat(prompt)\n",
        "  except Exception as e:\n",
        "    print(f\"An error occurred: {e}\")\n",
        "    return Ux()\n",
        "\n",
        "  quite = input(\"Wish to quite? (y/n): \")\n",
        "  if quite.lower() == \"y\":\n",
        "    reset_chat = input(\"Reset chat session? (y/n): \")\n",
        "    if reset_chat.lower() == \"y\":\n",
        "      reset_chat_session()\n",
        "    return [{'query': body, 'user_input': user_input}]\n",
        "  return [{'query': body, 'user_input': user_input}] + Ux()\n",
        "\n",
        "sql_query = Ux()\n",
        "if sql_query:\n",
        "  print(json.dumps(sql_query, indent=2))\n",
        "\n",
        "# select orders ordering by id as DESC pagination for 20 orders per page\n",
        "# select all user that have at least 1 order this month\n",
        "# select all users that have spent more than $100 in the last month. The list should include their name, email, total amount spent, average order value, their latest order date, and how many orders they've placed. Sort the list by the total amount spent, with the highest spenders at the top.\n"
      ]
    },
    {
      "cell_type": "code",
      "execution_count": 24,
      "metadata": {
        "colab": {
          "base_uri": "https://localhost:8080/"
        },
        "id": "XDq853Bg9pID",
        "outputId": "baa47ab9-0f64-4f49-9ffe-25cbd48e22ee"
      },
      "outputs": [
        {
          "name": "stdout",
          "output_type": "stream",
          "text": [
            "================================================================================ \n",
            "\n",
            "\n",
            "select all users that have spent more than $100 in the last month. The list should include their name, email, total amount spent, average order value, their latest order date, and how many orders they've placed. Sort the list by the total amount spent, with the highest spenders at the top.\n",
            "----- \n",
            "\n",
            " ```sql\n",
            "SELECT\n",
            "    u.first_name,\n",
            "    u.last_name,\n",
            "    u.email,\n",
            "    SUM(o.total_amount) AS total_spent,\n",
            "    AVG(o.total_amount) AS average_order_value,\n",
            "    MAX(o.order_date) AS latest_order_date,\n",
            "    COUNT(o.id) AS total_orders\n",
            "FROM\n",
            "    users u\n",
            "JOIN\n",
            "    orders o ON u.id = o.user_id\n",
            "WHERE\n",
            "    o.order_date >= DATE_SUB(CURDATE(), INTERVAL 1 MONTH)\n",
            "GROUP BY\n",
            "    u.id, u.first_name, u.last_name, u.email\n",
            "HAVING\n",
            "    total_spent > 100\n",
            "ORDER BY\n",
            "    total_spent DESC;\n",
            "```\n"
          ]
        }
      ],
      "source": [
        "for query in sql_query:\n",
        "  # print user input with auto wrap word\n",
        "  print('='*80,\"\\n\"*2)\n",
        "  print(query[\"user_input\"])\n",
        "  # print query breaking line\n",
        "  print('-'*5,\"\\n\"*2,query[\"query\"])"
      ]
    },
    {
      "cell_type": "code",
      "execution_count": null,
      "metadata": {},
      "outputs": [],
      "source": []
    }
  ],
  "metadata": {
    "colab": {
      "provenance": []
    },
    "kernelspec": {
      "display_name": "Python 3",
      "name": "python3"
    },
    "language_info": {
      "codemirror_mode": {
        "name": "ipython",
        "version": 3
      },
      "file_extension": ".py",
      "mimetype": "text/x-python",
      "name": "python",
      "nbconvert_exporter": "python",
      "pygments_lexer": "ipython3",
      "version": "3.9.19"
    }
  },
  "nbformat": 4,
  "nbformat_minor": 0
}
